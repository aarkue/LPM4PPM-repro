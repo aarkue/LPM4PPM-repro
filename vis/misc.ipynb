{
 "cells": [
  {
   "cell_type": "code",
   "execution_count": null,
   "metadata": {},
   "outputs": [],
   "source": [
    "import glob\n",
    "import pm4py\n",
    "lpms_path = \"../data/main/lpms\"\n",
    "alt_lpms_path = \"../data/imf-alternative/lpms/\"\n",
    "figure_path = \"../figures/\"\n",
    "logs = {\n",
    "    \"BPIC11_f1\": \"BPIC2011-f1\",\n",
    "    # \"BPIC11_f2\": \"BPIC2011-f2\",\n",
    "    # \"BPIC11_f3\": \"BPIC2011-f3\",\n",
    "    # \"BPIC11_f4\": \"BPIC2011-f4\",\n",
    "    \"Production\": \"Production\",\n",
    "    # \"traffic_fines_1\": \"Traffic Fine\",\n",
    "        }\n",
    "lpms_per_log = {log: [] for log in logs}\n",
    "num_acts_per_log = {log: [] for log in logs}\n",
    "for log in logs:\n",
    "    for file in glob.glob(lpms_path + \"/\" + log + \"/\" + \"*.pnml\"):\n",
    "        lpm = pm4py.read_pnml(file)\n",
    "        acts_in_lpm = {t.label for t in lpm[0].transitions if t.label is not None}\n",
    "        num_acts_per_log[log].append(len(acts_in_lpm))\n",
    "        lpms_per_log[log].append(lpm)\n",
    "    print(f\"{log}: {len(lpms_per_log[log])} LPMs\")\n",
    "\n",
    "alt_lpms_per_log = {log: [] for log in logs}\n",
    "alt_num_acts_per_log = {log: [] for log in logs}\n",
    "for log in logs:\n",
    "    for file in glob.glob(alt_lpms_path + \"/\" + log + \"/\" + \"*.pnml\"):\n",
    "        lpm = pm4py.read_pnml(file)\n",
    "        acts_in_lpm = {t.label for t in lpm[0].transitions if t.label is not None}\n",
    "        alt_num_acts_per_log[log].append(len(acts_in_lpm))\n",
    "        alt_lpms_per_log[log].append(lpm)\n",
    "    print(f\"ALT: {log}: {len(alt_lpms_per_log[log])} LPMs\")\n",
    "alt_num_acts_overall = [n for num_acts in alt_num_acts_per_log.values() for n in num_acts]"
   ]
  },
  {
   "cell_type": "code",
   "execution_count": null,
   "metadata": {},
   "outputs": [],
   "source": [
    "import seaborn as sns\n",
    "import pandas as pd\n",
    "sns.set_theme(style=\"whitegrid\")\n",
    "from matplotlib import pyplot as plt\n",
    "df = pd.DataFrame([(n,logs[log]) for log in alt_num_acts_per_log for n in alt_num_acts_per_log[log]], columns=[\"Number of activities\",\"Log\"])\n",
    "plt.figure(figsize=(8,4))\n",
    "ax = sns.countplot(df,x=\"Number of activities\",hue=\"Log\")\n",
    "ax.set_title(\"Number of activities in discovered LPMs\")\n",
    "ax.set_ylabel(\"Count\")\n",
    "plt.savefig(f\"{figure_path}/number_of_acts_in_lpms_per_log.pdf\", bbox_inches='tight')"
   ]
  },
  {
   "cell_type": "code",
   "execution_count": null,
   "metadata": {},
   "outputs": [],
   "source": [
    "num_lpms_per_log = {log: len(lpms_per_log[log]) for log in logs}\n",
    "df_total_per_log = pd.DataFrame([(len(lpms_per_log[log]),logs[log]) for log in logs],columns=[\"Number of LPMs\",\"Log\"])\n",
    "plt.figure(figsize=(8,3))\n",
    "ax = sns.barplot(data=df_total_per_log,x=\"Log\",y=\"Number of LPMs\")\n",
    "ax.set_ylim([0,110])\n",
    "ax.bar_label(ax.containers[0],label_type=\"edge\")\n",
    "ax.set_title(\"Number of LPMs discovered per Event Log\")\n",
    "plt.savefig(f\"{figure_path}/number_of_lpms_per_log.pdf\", bbox_inches='tight')"
   ]
  }
 ],
 "metadata": {
  "kernelspec": {
   "display_name": "Python 3",
   "language": "python",
   "name": "python3"
  },
  "language_info": {
   "codemirror_mode": {
    "name": "ipython",
    "version": 3
   },
   "file_extension": ".py",
   "mimetype": "text/x-python",
   "name": "python",
   "nbconvert_exporter": "python",
   "pygments_lexer": "ipython3",
   "version": "3.10.10"
  },
  "orig_nbformat": 4
 },
 "nbformat": 4,
 "nbformat_minor": 2
}
